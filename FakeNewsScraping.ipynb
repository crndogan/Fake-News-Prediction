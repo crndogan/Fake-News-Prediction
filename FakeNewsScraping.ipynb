{
 "cells": [
  {
   "cell_type": "code",
   "execution_count": 79,
   "id": "4a48dddd-9532-41cd-ab56-60dd32cbeada",
   "metadata": {},
   "outputs": [
    {
     "name": "stdout",
     "output_type": "stream",
     "text": [
      "<Response [200]>\n"
     ]
    }
   ],
   "source": [
    "#EXAMPLE CODE FOR CHECKING IF WEBSITE LETS ME TO SCRAPE \n",
    "\n",
    "from bs4 import BeautifulSoup\n",
    "import requests\n",
    "import pandas\n",
    "\n",
    "# Get data by pretending we are a browser like this.\n",
    "#https://stackoverflow.com/questions/52068920/python-requests-beautifulsoup-bot-detection\n",
    "headers = {\n",
    "    'User-Agent': 'Mozilla/5.0 (Macintosh; Intel Mac OS X 10_11_2) AppleWebKit/601.3.9 (KHTML, like Gecko) Version/9.0.2 Safari/601.3.9'}\n",
    "\n",
    "url = 'https://www.thegatewaypundit.com/2024/09/scientific-experts-are-upset-that-covid-vaccine-propaganda/'  #URL FOR SPECIFIC PAGE - I changed url for each article\n",
    "\n",
    "response = requests.get(url, headers=headers)\n",
    "# response 200 means that it is working\n",
    "print(response)"
   ]
  },
  {
   "cell_type": "markdown",
   "id": "e6b793ee-2e88-46e7-b208-dfbed98edf4b",
   "metadata": {},
   "source": [
    "## 1) BITCHUTE \n",
    "\n",
    "https://www.bitchute.com/video/ib61VSNBcNuv \n",
    "\n",
    "__I used \"TRANSCRIBE\" website for the text scraping of the video. First I downloaded and uploaded the video and scraped it.__\n",
    "\n",
    "CSV FILE: fakenews1_bitchute.csv"
   ]
  },
  {
   "cell_type": "markdown",
   "id": "9d442175-d0c9-4d20-b123-32b9f8289c48",
   "metadata": {},
   "source": [
    "## 2) NATURAL NEWS  \n",
    "\n",
    "https://www.naturalnews.com/2021-06-16-covid-vaccine-is-causing-the-covid-variants.html\n",
    "\n",
    "__I used noncoding approach for this webside because it gave me error while I try to scrape text data. I used Chrome web scrape. Please see FakeNews2_NaturalNews.csv file for the data__\n",
    "\n",
    "CSV FILE: fakeNews2_NaturalNews.csv"
   ]
  },
  {
   "cell_type": "markdown",
   "id": "0c8d6b59-5898-4c2e-917c-831fc5c9dcd8",
   "metadata": {},
   "source": [
    "## 3) INFOWARS  \n",
    "\n",
    "https://www.infowars.com/posts/report-deadly-covid-vaccine-could-be-banned-by-trump\n",
    "\n",
    "CSV FILE:  fakenews3_InfoWars.csv"
   ]
  },
  {
   "cell_type": "code",
   "execution_count": 84,
   "id": "a72f1468-dbec-43d2-8716-afbc358d1739",
   "metadata": {},
   "outputs": [
    {
     "name": "stdout",
     "output_type": "stream",
     "text": [
      "done\n"
     ]
    }
   ],
   "source": [
    "from selenium import webdriver\n",
    "from selenium.webdriver.common.by import By\n",
    "import pandas as pd\n",
    "import time\n",
    "\n",
    "def scrape_article(url):\n",
    "    options = webdriver.ChromeOptions()\n",
    "    options.add_argument('--headless')\n",
    "    options.add_argument('--disable-gpu')\n",
    "    driver = webdriver.Chrome(options=options) \n",
    "    driver.get(url)\n",
    "    time.sleep(3)\n",
    "\n",
    "    # BODY TEXT\n",
    "    try:\n",
    "        content = driver.find_element(By.CSS_SELECTOR, 'section.article-main div.article-content div.article-details')\n",
    "        paragraphs = content.find_elements(By.TAG_NAME, 'p')\n",
    "        body_text = \"\\n\".join([p.text for p in paragraphs])\n",
    "    except:\n",
    "        body_text = \"none\"\n",
    "\n",
    "    # IMAGE URLs and ALT TEXT\n",
    "    image_urls = []\n",
    "    image_alts = []\n",
    "    try:\n",
    "        images = driver.find_elements(By.TAG_NAME, 'img')\n",
    "        for image in images:\n",
    "            src = image.get_attribute('src')\n",
    "            alt = image.get_attribute('alt')\n",
    "            if src:\n",
    "                image_urls.append(src)\n",
    "                image_alts.append(alt if alt else \"No alt text\")\n",
    "    except:\n",
    "        image_urls = [\"none\"]\n",
    "        image_alts = [\"none\"]\n",
    "\n",
    "    driver.quit()\n",
    "\n",
    "    return {\n",
    "        \"Text\": body_text,\n",
    "        \"Image Alt Texts\": image_alts,\n",
    "        \"Image URLs\": image_urls\n",
    "    }\n",
    "\n",
    "def save_to_csv(data, filename):\n",
    "    df = pd.DataFrame([data])\n",
    "    df.to_csv(filename, index=True, index_label=\"Index\", encoding=\"utf-8-sig\")\n",
    "\n",
    "if __name__ == \"__main__\":\n",
    "    url = \"https://www.infowars.com/posts/report-deadly-covid-vaccine-could-be-banned-by-trump\"\n",
    "    article = scrape_article(url)\n",
    "    save_to_csv(article, \"fakenews3_InfoWars.csv\")\n",
    "    print(\"done\")"
   ]
  },
  {
   "cell_type": "markdown",
   "id": "95c4dbc9-33bb-4554-a6de-6b318e2df583",
   "metadata": {},
   "source": [
    "## 4) The Gateway Pundit \n",
    "\n",
    "https://www.thegatewaypundit.com/2024/09/scientific-experts-are-upset-that-covid-vaccine-propaganda/  \n",
    "\n",
    "CSV FILE: fakenews4_Gateway.csv"
   ]
  },
  {
   "cell_type": "code",
   "execution_count": 90,
   "id": "f70a204b-e4c1-40c7-9efb-117ea93acb69",
   "metadata": {},
   "outputs": [
    {
     "name": "stdout",
     "output_type": "stream",
     "text": [
      "done\n"
     ]
    }
   ],
   "source": [
    "from selenium import webdriver\n",
    "from selenium.webdriver.common.by import By\n",
    "import pandas as pd\n",
    "import time\n",
    "\n",
    "#I am creaating a function for scraping article\n",
    "def scrape_article(url):\n",
    "#Added this part to run browser in the background\n",
    "    options = webdriver.ChromeOptions()\n",
    "    options.add_argument('--headless')\n",
    "    driver = webdriver.Chrome(options=options) \n",
    "    driver.get(url)\n",
    "    time.sleep(3)\n",
    "\n",
    "\n",
    "#BODY TEXT\n",
    "    try:\n",
    "        content = driver.find_element(By.CSS_SELECTOR, '#post-1206095 > div > div.entry-content')\n",
    "        paragraphs = content.find_elements(By.TAG_NAME, 'p')\n",
    "        body_text = \"\\n\".join([p.text for p in paragraphs if p.text.strip() != \"\"])\n",
    "    except:\n",
    "        body_text = \"none\"\n",
    "\n",
    "#IMAGE url and IMAGE ALT\n",
    "    image_urls = []\n",
    "    image_alts = []\n",
    "    try:\n",
    "        #Image loop\n",
    "        images = driver.find_elements(By.TAG_NAME, 'img')\n",
    "        for image in images:\n",
    "            image_url = image.get_attribute('src')\n",
    "            image_alt = image.get_attribute('alt')\n",
    "            image_urls.append(image_url if image_url else \"No image URL found\")\n",
    "            image_alts.append(image_alt if image_alt else \"No image alt text found\")\n",
    "    except:\n",
    "        image_alts = [\"none\"]\n",
    "        image_urls = [\"none\"]\n",
    "\n",
    "    driver.quit()\n",
    "\n",
    "    return {\n",
    "        \"Text\": body_text,\n",
    "        \"Image Alt Texts\": image_alts,\n",
    "        \"Image URLs\": image_urls\n",
    "    }\n",
    "#saving data to csv file\n",
    "def save_to_csv(data, filename):\n",
    "    df = pd.DataFrame([data])\n",
    "    df.to_csv(filename, index=True, index_label=\"Index\", encoding=\"utf-8-sig\")\n",
    "\n",
    "#calling functions\n",
    "if __name__ == \"__main__\":\n",
    "    url = \"https://www.thegatewaypundit.com/2024/09/scientific-experts-are-upset-that-covid-vaccine-propaganda/\"\n",
    "    article = scrape_article(url)\n",
    "    save_to_csv(article, \"fakenews4_Gateway.csv\")\n",
    "    print(\"done\")"
   ]
  },
  {
   "cell_type": "markdown",
   "id": "2d2a79cf-8ba5-42f4-ae9f-905c3476b999",
   "metadata": {},
   "source": [
    "## 5) Dr. John Campbell - Known as giving misinformation about covid vaccine -YouTube\n",
    "\n",
    "https://www.youtube.com/watch?v=m2skKkRwYj8 \n",
    "\n",
    "__I used \"TRANSCRIBE\" website for the text scraping of the video. First I downloaded and uploaded the video and scraped it.__ \n",
    "\n",
    "CSV FILE: fakeNews5_drcampell.csv"
   ]
  },
  {
   "cell_type": "markdown",
   "id": "58600bab-dc68-4130-a679-33f2b974ed70",
   "metadata": {},
   "source": [
    "## 6) TIKTOK\n",
    "\n",
    "https://www.tiktok.com/@budak_hemp/video/7078089721645190427?q=vaccine%20caused%20my%20heart%20damage&t=1744607697740\n",
    "\n",
    "__I used \"TRANSCRIBE\" website for the text scraping of the video. First I downloaded and uploaded the video and scraped it.__ \n",
    "\n",
    "CSV FILE: fakenews6_TikTok.csv"
   ]
  },
  {
   "cell_type": "markdown",
   "id": "90409f6a-3900-4b4a-ba8b-27c7856c100c",
   "metadata": {},
   "source": [
    "## COMBINING FILES"
   ]
  },
  {
   "cell_type": "code",
   "execution_count": 122,
   "id": "945b8cd2-2ac2-4e5a-82b9-3ed983f83b85",
   "metadata": {},
   "outputs": [
    {
     "name": "stdout",
     "output_type": "stream",
     "text": [
      "done\n"
     ]
    }
   ],
   "source": [
    "import pandas as pd\n",
    "\n",
    "#Load each CSV\n",
    "df1 = pd.read_csv('fakenews1_bitchute.csv')\n",
    "df2 = pd.read_csv('fakeNews2_NaturalNews.csv')\n",
    "df3 = pd.read_csv('fakenews3_InfoWars.csv')\n",
    "df4 = pd.read_csv('fakenews4_Gateway.csv')\n",
    "df5 = pd.read_csv('fakeNews5_drcampell.csv')\n",
    "df6 = pd.read_csv('fakenews6_TikTok.csv')\n",
    "\n",
    "# Combine them\n",
    "combined_df = pd.concat([df1, df2, df3, df4, df5, df6], ignore_index=True)\n",
    "\n",
    "# Save to a new file\n",
    "combined_df.to_csv('Combined_FakeNews.csv', index=False, encoding='utf-8-sig')\n",
    "\n",
    "print(\"done\")"
   ]
  },
  {
   "cell_type": "code",
   "execution_count": null,
   "id": "dc249d72-e316-4558-b90f-2f01b9ff59d9",
   "metadata": {},
   "outputs": [],
   "source": []
  }
 ],
 "metadata": {
  "kernelspec": {
   "display_name": "Python [capstone]",
   "language": "python",
   "name": "capstone"
  },
  "language_info": {
   "codemirror_mode": {
    "name": "ipython",
    "version": 3
   },
   "file_extension": ".py",
   "mimetype": "text/x-python",
   "name": "python",
   "nbconvert_exporter": "python",
   "pygments_lexer": "ipython3",
   "version": "3.12.4"
  }
 },
 "nbformat": 4,
 "nbformat_minor": 5
}
