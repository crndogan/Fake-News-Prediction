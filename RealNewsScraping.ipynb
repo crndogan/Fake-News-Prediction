{
 "cells": [
  {
   "cell_type": "code",
   "execution_count": 68,
   "id": "40b7aa82-67a7-40a1-a7b4-cc0acf24ee2d",
   "metadata": {},
   "outputs": [
    {
     "name": "stdout",
     "output_type": "stream",
     "text": [
      "<Response [200]>\n"
     ]
    }
   ],
   "source": [
    "#EXAMPLE CODE FOR CHECKING IF WEBSITE LETS ME TO SCRAPE \n",
    "\n",
    "from bs4 import BeautifulSoup\n",
    "import requests\n",
    "import pandas\n",
    "\n",
    "# Get data by pretending we are a browser like this.\n",
    "#https://stackoverflow.com/questions/52068920/python-requests-beautifulsoup-bot-detection\n",
    "headers = {\n",
    "    'User-Agent': 'Mozilla/5.0 (Macintosh; Intel Mac OS X 10_11_2) AppleWebKit/601.3.9 (KHTML, like Gecko) Version/9.0.2 Safari/601.3.9'}\n",
    "\n",
    "url = 'https://www.nbcnews.com/politics/supreme-court/supreme-court-rejects-rfk-jr-groups-attempt-protect-anti-covid-vaccine-rcna181061'  #URL FOR SPECIFIC PAGE - I changed url for each article\n",
    "\n",
    "response = requests.get(url, headers=headers)\n",
    "# response 200 means that it is working\n",
    "print(response)"
   ]
  },
  {
   "cell_type": "markdown",
   "id": "7492600a-986e-4881-902a-5e711e9b807e",
   "metadata": {},
   "source": [
    "## 1) CNN \n",
    "\n",
    "https://www.cnn.com/2025/03/07/health/hhs-cdc-vaccines-autism/index.html\n",
    "\n",
    "CSV FILE : realnews1_CNN.csv"
   ]
  },
  {
   "cell_type": "code",
   "execution_count": 71,
   "id": "78805adf-1eae-4d33-a60e-466c6cfe40c2",
   "metadata": {},
   "outputs": [
    {
     "name": "stdout",
     "output_type": "stream",
     "text": [
      "done\n"
     ]
    }
   ],
   "source": [
    "from selenium import webdriver\n",
    "from selenium.webdriver.common.by import By\n",
    "import pandas as pd\n",
    "import time\n",
    "\n",
    "#I am creaating a function for scraping article\n",
    "def scrape_article(url):\n",
    "#Added this part to run browser in the background\n",
    "    options = webdriver.ChromeOptions()\n",
    "    options.add_argument('--headless')\n",
    "    driver = webdriver.Chrome(options=options) \n",
    "    driver.get(url)\n",
    "    time.sleep(3)\n",
    "\n",
    "\n",
    "#BODY TEXT\n",
    "    try:\n",
    "        paragraphs = driver.find_elements(By.CSS_SELECTOR, 'div.article__content p')\n",
    "        body_text = \"\\n\".join([p.text for p in paragraphs])  #Added this part after getting error for paragraphs\n",
    "    except:\n",
    "        body_text = \"none\"\n",
    "\n",
    "#IMAGE url and IMAGE ALT\n",
    "    image_urls = []\n",
    "    image_alts = []\n",
    "    try:\n",
    "        #Image loop\n",
    "        images = driver.find_elements(By.TAG_NAME, 'img')\n",
    "        for image in images:\n",
    "            image_url = image.get_attribute('src')\n",
    "            image_alt = image.get_attribute('alt')\n",
    "            image_urls.append(image_url if image_url else \"No image URL found\")\n",
    "            image_alts.append(image_alt if image_alt else \"No image alt text found\")\n",
    "    except:\n",
    "        image_alts = [\"none\"]\n",
    "        image_urls = [\"none\"]\n",
    "\n",
    "    driver.quit()\n",
    "\n",
    "    return {\n",
    "        \"Text\": body_text,\n",
    "        \"Image Alt Texts\": image_alts,\n",
    "        \"Image URLs\": image_urls\n",
    "    }\n",
    "#saving data to csv file\n",
    "def save_to_csv(data, filename):\n",
    "    df = pd.DataFrame([data])\n",
    "    df.to_csv(filename, index=True, index_label=\"Index\", encoding=\"utf-8-sig\")\n",
    "\n",
    "#calling functions\n",
    "if __name__ == \"__main__\":\n",
    "    url = \"https://www.cnn.com/2025/03/07/health/hhs-cdc-vaccines-autism/index.html\"\n",
    "    article = scrape_article(url)\n",
    "    save_to_csv(article, \"realnews1_CNN.csv\")\n",
    "    print(\"done\")"
   ]
  },
  {
   "cell_type": "markdown",
   "id": "84f39dcc-ac7a-4aee-9a24-6f04426f9610",
   "metadata": {},
   "source": [
    "## 2) NewsNation -Youtube\n",
    "\n",
    "https://www.youtube.com/watch?v=QBvmqwO1XdU\n",
    "\n",
    "__I used APIFY, \"YouTube Transcript Extractor:Video Text\" actor to scrape text from the video. Good thing about this actor that you can pick the columns you want to keep in your csv file.__\n",
    "\n",
    "CSV FILE:  realnews2_NewsNation_Youtube.csv"
   ]
  },
  {
   "cell_type": "markdown",
   "id": "2d043e93-0bdd-485e-a0d2-e898f3f797d2",
   "metadata": {},
   "source": [
    "## 3) Yahoo News\n",
    "\n",
    "https://www.yahoo.com/news/robert-f-kennedy-jr-falsely-090041824.html?fr=sycsrp_catchall \n",
    "\n",
    "CSV FILE: 'realnews3_Yahoo.csv'"
   ]
  },
  {
   "cell_type": "code",
   "execution_count": 74,
   "id": "1d91d585-ad0f-408b-b451-1925ebdb16f0",
   "metadata": {},
   "outputs": [
    {
     "name": "stdout",
     "output_type": "stream",
     "text": [
      "done\n"
     ]
    }
   ],
   "source": [
    "from bs4 import BeautifulSoup\n",
    "import requests\n",
    "import pandas\n",
    "\n",
    "# Get data by pretending we are a browser like this.\n",
    "#https://stackoverflow.com/questions/52068920/python-requests-beautifulsoup-bot-detection\n",
    "headers = {\n",
    "    'User-Agent': 'Mozilla/5.0 (Macintosh; Intel Mac OS X 10_11_2) AppleWebKit/601.3.9 (KHTML, like Gecko) Version/9.0.2 Safari/601.3.9'}\n",
    "url = 'https://www.yahoo.com/news/robert-f-kennedy-jr-falsely-090041824.html?fr=sycsrp_catchall'\n",
    "response = requests.get(url, headers=headers)\n",
    "# response 200 means that it is working\n",
    "#print(response)\n",
    "if response.status_code == 200:\n",
    "    # I am creating an empty dictionary here\n",
    "    output = {\"Title\": [], \"Author\": [], \"Text\": []}\n",
    "\n",
    "    soup = BeautifulSoup(response.content, 'lxml')\n",
    "    #Capture the source the article from the image alt text\n",
    "    #Scrape all images from the article\n",
    "    #source = soup.findAll('img')\n",
    "    #Print the alt text of the first image\n",
    "    #print(source[1]['alt'])\n",
    "    #output['Source'].append(source[1]['alt'])\n",
    "    # Capture the title of the article\n",
    "    title = soup.find('h1').get_text()\n",
    "    #print(title)\n",
    "    output['Title'].append(title)\n",
    "    #Scrape the name of the article's author if data is there\n",
    "    author = soup.find('div', class_='text-sm font-semibold').get_text()\n",
    "    #print(author)\n",
    "    output['Author'].append(author)\n",
    "    #Scrape the article text\n",
    "    article = soup.find('div', class_='col-body').get_text()\n",
    "    #print(article)\n",
    "    output['Text'].append(article)\n",
    "\n",
    "#Save results to a csv file\n",
    "results = pandas.DataFrame(output)\n",
    "results.to_csv('realnews3_Yahoo.csv', index=True, index_label=\"Index\",encoding=\"utf-8-sig\")\n",
    "\n",
    "print(\"done\")\n",
    "\n"
   ]
  },
  {
   "cell_type": "markdown",
   "id": "9455d1da-9ba1-4e23-9dad-11a79b4a0caf",
   "metadata": {},
   "source": [
    "## FORBES \n",
    "\n",
    "https://www.forbes.com/sites/ariannajohnson/2023/05/22/new-studies-find-covid-vaccines-are-safe-for-kids-here-are-the-different-types-of-vaccines-and-how-they-work/?ctpv=searchpage\n",
    "\n",
    "CSV FILE: realnews4_Forbes.csv"
   ]
  },
  {
   "cell_type": "code",
   "execution_count": 36,
   "id": "b2e23fea-0c02-43e7-80b5-57facd5bb664",
   "metadata": {},
   "outputs": [
    {
     "name": "stdout",
     "output_type": "stream",
     "text": [
      "done\n"
     ]
    }
   ],
   "source": [
    "#I am creaating a function for scraping article\n",
    "def scrape_article(url):\n",
    "    # headless browser\n",
    "    options = webdriver.ChromeOptions()\n",
    "    options.add_argument('--headless')\n",
    "    driver = webdriver.Chrome(options=options)\n",
    "\n",
    "    driver.get(url)\n",
    "    time.sleep(3)\n",
    "\n",
    " \n",
    "    # BODY TEXT\n",
    "    try:\n",
    "        paragraphs = driver.find_elements(By.CSS_SELECTOR, 'div.article-body p')\n",
    "        body_text = \"\\n\".join([p.text for p in paragraphs])\n",
    "    except:\n",
    "        body_text = \"none\"\n",
    "\n",
    "    # IMAGE ALT + URL\n",
    "    try:\n",
    "        image = driver.find_element(By.TAG_NAME, 'img')\n",
    "        image_alt = image.get_attribute('alt')\n",
    "        image_url = image.get_attribute('src')\n",
    "    except:\n",
    "        image_alt = \"none\"\n",
    "        image_url = \"none\"\n",
    "\n",
    "    driver.quit()\n",
    "\n",
    "    return {\n",
    "        \"Text\": body_text,\n",
    "        \"Image Alt Text\": image_alt,\n",
    "        \"Image URL\": image_url\n",
    "    }\n",
    "\n",
    "def save_to_csv(data, filename):\n",
    "    df = pd.DataFrame([data])\n",
    "    df.to_csv(filename, index=True, index_label=\"Index\", encoding=\"utf-8-sig\")\n",
    "\n",
    "if __name__ == \"__main__\":\n",
    "    url = \"https://www.forbes.com/sites/ariannajohnson/2023/05/22/new-studies-find-covid-vaccines-are-safe-for-kids-here-are-the-different-types-of-vaccines-and-how-they-work/?ctpv=searchpage\"\n",
    "    article = scrape_article(url)\n",
    "    save_to_csv(article, 'realnews4_Forbes.csv')\n",
    "    print(\"done\")\n"
   ]
  },
  {
   "cell_type": "markdown",
   "id": "60a4df78-e38e-4ba4-9971-4c53049f389a",
   "metadata": {},
   "source": [
    "## 5) CBS News - Youtube Video\n",
    "\n",
    "https://www.youtube.com/watch?v=ZIvWuB1ucQ8\n",
    "\n",
    "__I used APIFY, \"YouTube Transcript Extractor:Video Text\" actor to scrape text from the video. Good thing about this actor that you can pick the columns you want to keep in your csv file.__\n",
    "\n",
    "CSV FILE: realnews5_Youtube_CBS.csv"
   ]
  },
  {
   "cell_type": "markdown",
   "id": "4566225c-4ed2-4bd0-989d-4f8da1be8b1f",
   "metadata": {},
   "source": [
    "## 6) WCVB Channel 5 Boston - Youtube Video\n",
    "\n",
    "https://www.youtube.com/watch?v=ofQYWI28ZAQ\n",
    "\n",
    "__I used APIFY, \"YouTube Transcript Extractor:Video Text\" actor to scrape text from the video. Good thing about this actor that you can pick the columns you want to keep in your csv file.__ \n",
    "CSV FILE : realnews6_Youtube_WCVB.csv"
   ]
  },
  {
   "cell_type": "markdown",
   "id": "baa055c0-1660-456d-a299-d253d0dde9a3",
   "metadata": {},
   "source": [
    "## COMBINING FILES"
   ]
  },
  {
   "cell_type": "code",
   "execution_count": 78,
   "id": "0488f5f4-1d99-4ba0-9627-d37e43d3c0a7",
   "metadata": {},
   "outputs": [
    {
     "name": "stdout",
     "output_type": "stream",
     "text": [
      "done\n"
     ]
    }
   ],
   "source": [
    "import pandas as pd\n",
    "\n",
    "#Load each CSV\n",
    "df1 = pd.read_csv('realnews1_CNN.csv')\n",
    "df2 = pd.read_csv('realnews2_NewsNation_Youtube.csv')\n",
    "df3 = pd.read_csv('realnews3_Yahoo.csv')\n",
    "df4 = pd.read_csv('realnews4_Forbes.csv')\n",
    "df5 = pd.read_csv('realnews5_Youtube_CBS.csv')\n",
    "df6 = pd.read_csv('realnews6_Youtube_WCVB.csv')\n",
    "\n",
    "# Combine them\n",
    "combined_df = pd.concat([df1, df2, df3, df4, df5, df6], ignore_index=True)\n",
    "\n",
    "# Save to a new file\n",
    "combined_df.to_csv('Combined_RealNews.csv', index=False, encoding='utf-8-sig')\n",
    "\n",
    "print(\"done\")"
   ]
  },
  {
   "cell_type": "code",
   "execution_count": null,
   "id": "f283585f-bba2-48a9-a3ee-b5bc015343cc",
   "metadata": {},
   "outputs": [],
   "source": []
  }
 ],
 "metadata": {
  "kernelspec": {
   "display_name": "Python [capstone]",
   "language": "python",
   "name": "capstone"
  },
  "language_info": {
   "codemirror_mode": {
    "name": "ipython",
    "version": 3
   },
   "file_extension": ".py",
   "mimetype": "text/x-python",
   "name": "python",
   "nbconvert_exporter": "python",
   "pygments_lexer": "ipython3",
   "version": "3.12.4"
  }
 },
 "nbformat": 4,
 "nbformat_minor": 5
}
